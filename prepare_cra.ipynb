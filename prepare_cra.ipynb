{
 "cells": [
  {
   "cell_type": "code",
   "execution_count": null,
   "id": "7f517e3b",
   "metadata": {},
   "outputs": [],
   "source": [
    "from pathlib import Path\n",
    "import pandas as pd\n",
    "from sqlalchemy import create_engine, text\n",
    "\n",
    "def open_cra(path):\n",
    "\n",
    "    cra_columns = pd.read_csv(Path.cwd() / \"conf\" / \"cra_columns.csv\")\n",
    "\n",
    "    michigan = []\n",
    "    for chunk in pd.read_fwf(\n",
    "        path, \n",
    "        names=cra_columns[\"column_name\"], \n",
    "        widths=cra_columns[\"width\"], \n",
    "        chunksize=1000\n",
    "    ):\n",
    "\n",
    "        michigan.append(chunk[\n",
    "            chunk[\"state\"] == 26\n",
    "        ].copy())\n",
    "\n",
    "    return pd.concat(michigan)\n",
    "\n",
    "\n",
    "def calc_totals(frame):\n",
    "    frame[\"total_count\"] = frame[[\"num_under_100k\", \"num_100k_to_250k\",\n",
    "        \"num_250k_million\", \"num_over_million\"]].sum(axis=1)\n",
    "\n",
    "    # The raw data is by 1/1000\n",
    "    frame[\"total_amt\"] = 1000 * frame[[\"amt_under_100k\", \"amt_100k_to_250k\",\n",
    "        \"amt_250k_million\", \"amt_over_million\"]].sum(axis=1)\n",
    "\n",
    "    return frame\n",
    "\n",
    "\n",
    "def process_tract_geoid(tract: pd.Series):\n",
    "    tract_splits = (\n",
    "        tract.astype(\"str\")\n",
    "        .str.split(\".\", expand=True)\n",
    "    )\n",
    "\n",
    "    return (\n",
    "        tract_splits[0].str.pad(4, side=\"left\", fillchar=\"0\")\n",
    "        + tract_splits[1].str.pad(2, side=\"right\", fillchar=\"0\")\n",
    "    )\n",
    "\n",
    "\n",
    "def short_geoid(frame):\n",
    "    return (\n",
    "        frame[\"state\"].astype(pd.Int64Dtype()).astype(\"str\")\n",
    "        + frame[\"county\"].astype(pd.Int64Dtype()).astype(\"str\").str.pad(3, side=\"left\", fillchar='0')\n",
    "        + process_tract_geoid(frame[\"tract\"])\n",
    "    )\n"
   ]
  },
  {
   "cell_type": "code",
   "execution_count": 29,
   "id": "3b67e669",
   "metadata": {},
   "outputs": [],
   "source": [
    "population = pd.read_excel(\"mi_tract_population_20250811.xlsx\")\n",
    "population[\"short_geoid\"] = population[\"geoid\"].str.slice(9)\n",
    "\n",
    "\n",
    "def prepare_cra_year(year: str):\n",
    "    short_year = year[2:]\n",
    "    path = f\"{short_year}exp_aggr/cra{year}_Aggr_A11.dat\"\n",
    "    pop = population[population[\"Year\"].astype(str) == year]\n",
    "\n",
    "    frame = open_cra(path)\n",
    "    frame = frame[~frame[\"tract\"].isna()].copy() # tracts only\n",
    "    frame[\"short_geoid\"] = short_geoid(frame)\n",
    "    frame = calc_totals(frame)\n",
    "\n",
    "    merged = (\n",
    "        frame\n",
    "        .merge(pop, on=\"short_geoid\")\n",
    "        .sort_values(\"county\")\n",
    "    )\n",
    "\n",
    "    # If any rows are lost, beak\n",
    "    assert len(merged) == len(frame)\n",
    "\n",
    "    merged[\"num_cra_loans_per_10k\"] = (10_000 * merged[\"total_count\"]) / merged[\"Total Population\"]\n",
    "    merged[\"cra_dollars_per_capita\"] = (1000 * merged[\"total_amt\"]) / merged[\"Total Population\"]\n",
    "\n",
    "    return merged"
   ]
  },
  {
   "cell_type": "code",
   "execution_count": 30,
   "id": "24506d07",
   "metadata": {},
   "outputs": [
    {
     "data": {
      "text/plain": [
       "2939"
      ]
     },
     "execution_count": 30,
     "metadata": {},
     "output_type": "execute_result"
    }
   ],
   "source": [
    "frame = prepare_cra_year('2023')\n",
    "len(frame)"
   ]
  },
  {
   "cell_type": "code",
   "execution_count": 32,
   "id": "87f9b1a8",
   "metadata": {},
   "outputs": [
    {
     "name": "stdout",
     "output_type": "stream",
     "text": [
      "Michigan\n",
      "CRA Loans Per 10k People\n",
      "267.45947938369784\n",
      "CRA Loan Amount per Capita\n",
      "798.2986966971206\n"
     ]
    }
   ],
   "source": [
    "totals = frame[[\"Total Population\", \"total_count\", \"total_amt\"]].sum()\n",
    "\n",
    "print(\"Michigan\")\n",
    "print(\"CRA Loans Per 10k People\")\n",
    "print(10_000 * totals[\"total_count\"] / totals[\"Total Population\"])\n",
    "print(\"CRA Loan Amount per Capita\")\n",
    "print(totals[\"total_amt\"] / totals[\"Total Population\"])"
   ]
  },
  {
   "cell_type": "code",
   "execution_count": 33,
   "id": "0dcf4f57",
   "metadata": {},
   "outputs": [
    {
     "name": "stdout",
     "output_type": "stream",
     "text": [
      "Wayne County\n",
      "CRA Loans Per 10k People\n",
      "289.2126103666419\n",
      "CRA Loan Amount per Capita\n",
      "699299.8437770437\n"
     ]
    }
   ],
   "source": [
    "totals = frame[\n",
    "    frame[\"short_geoid\"].str.startswith(\"26163\")\n",
    "][[\"Total Population\", \"total_count\", \"total_amt\"]].sum()\n",
    "\n",
    "print(\"Wayne County\")\n",
    "print(\"CRA Loans Per 10k People\")\n",
    "print(10_000 * totals[\"total_count\"] / totals[\"Total Population\"])\n",
    "print(\"CRA Loan Amount per Capita\")\n",
    "print(1_000 * totals[\"total_amt\"] / totals[\"Total Population\"])"
   ]
  },
  {
   "cell_type": "code",
   "execution_count": 35,
   "id": "e7449683",
   "metadata": {},
   "outputs": [
    {
     "data": {
      "text/plain": [
       "-1"
      ]
     },
     "execution_count": 35,
     "metadata": {},
     "output_type": "execute_result"
    }
   ],
   "source": [
    "db = create_engine(\"postgresql+psycopg://mike:a norse horse of course@edw:5432/data\")\n",
    "\n",
    "(\n",
    "    frame[[\"short_geoid\", \"total_count\", \"total_amt\"]]\n",
    "    .rename(columns={\n",
    "        \"short_geoid\": \"geoid\",\n",
    "        \"total_count\": \"total_cra_loans\",\n",
    "        \"total_amt\": \"total_cra_loan_amount\"\n",
    "    })\n",
    ").to_sql(\"cra_fix\", db, schema=\"meep\", index=False, if_exists=\"replace\")\n"
   ]
  },
  {
   "cell_type": "code",
   "execution_count": null,
   "id": "a3ef9093",
   "metadata": {},
   "outputs": [],
   "source": [
    "# I didn't run this with the notebook originally, so it could have\n",
    "# errors. (MV)\n",
    "\n",
    "query = text(\"\"\"\n",
    "CREATE TABLE meep.small_business_bu AS TABLE meep.tableau_small_business;\n",
    "\n",
    "UPDATE meep.tableau_small_business tsb\n",
    "SET \n",
    "    total_cra_loans = cf.total_cra_loans,\n",
    "    total_cra_loan_amount = cf.total_cra_loan_amount\n",
    "FROM meep.cra_fix cf\n",
    "WHERE tsb.geoid = cf.geoid;\n",
    "\"\"\")\n",
    "\n",
    "with db.connect() as conn:\n",
    "    conn.execute(query)\n",
    "    # conn.commit() # Do I need this? IDK"
   ]
  }
 ],
 "metadata": {
  "kernelspec": {
   "display_name": "meep",
   "language": "python",
   "name": "python3"
  },
  "language_info": {
   "codemirror_mode": {
    "name": "ipython",
    "version": 3
   },
   "file_extension": ".py",
   "mimetype": "text/x-python",
   "name": "python",
   "nbconvert_exporter": "python",
   "pygments_lexer": "ipython3",
   "version": "3.13.3"
  }
 },
 "nbformat": 4,
 "nbformat_minor": 5
}
